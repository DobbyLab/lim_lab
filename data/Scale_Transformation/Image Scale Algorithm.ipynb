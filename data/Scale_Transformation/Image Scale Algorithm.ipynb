{
 "cells": [
  {
   "cell_type": "code",
   "execution_count": 2,
   "id": "922d29ec",
   "metadata": {},
   "outputs": [],
   "source": [
    "# https://blog.naver.com/samsjang/220504966397"
   ]
  },
  {
   "cell_type": "code",
   "execution_count": 94,
   "id": "6e5bd926",
   "metadata": {},
   "outputs": [],
   "source": [
    "import cv2\n",
    "import numpy as np\n",
    "import os\n",
    "import shutil"
   ]
  },
  {
   "cell_type": "code",
   "execution_count": 131,
   "id": "89b8c347",
   "metadata": {},
   "outputs": [],
   "source": [
    "# s = 'C:\\\\Users\\\\issac\\\\Documents\\\\GitHub\\\\lim_lab\\\\data_set\\\\'\n",
    "# P = 'original\\\\bear\\\\'\n",
    "# PM = 'scale\\\\bear\\\\'\n",
    "s = 'C:/Users/issac/Documents/GitHub/lim_lab/data_set/'\n",
    "P = 'original_224/'\n",
    "PM = 'scale_56/'\n",
    "file_name = 'bear/'"
   ]
  },
  {
   "cell_type": "code",
   "execution_count": 132,
   "id": "bf8610e4",
   "metadata": {},
   "outputs": [],
   "source": [
    "P_file_names = os.listdir(s+P+file_name)\n",
    "PM_file_names = os.listdir(s+PM+file_name)"
   ]
  },
  {
   "cell_type": "code",
   "execution_count": 133,
   "id": "90d901f8",
   "metadata": {},
   "outputs": [
    {
     "name": "stdout",
     "output_type": "stream",
     "text": [
      "['.DS_Store', '13e6c2ad1cbc96a5.jpg', '1913a0ece8270f71.jpg', '1cca48c57103a42c.jpg', '385fea752fdf81bd.jpg', '50100f0b149c5668.jpg', '5e4722478ab9c699.jpg', '835f500b4f18425a.jpg', '981ff8cfd891a39a.jpg', '9e411cef88b11bb7.jpg', 'aadda77be1e8bc0b.jpg', 'c65ae1b4dfb5daed.jpg', 'c7d86272aa32b063.jpg', 'cb436ce30220421a.jpg', 'cbdf311b4ed017be.jpg', 'f30cedac9b8aed01.jpg']\n"
     ]
    }
   ],
   "source": [
    "print(P_file_names)"
   ]
  },
  {
   "cell_type": "code",
   "execution_count": 134,
   "id": "4fbc205b",
   "metadata": {},
   "outputs": [],
   "source": [
    "for i in range(len(P_file_names)):\n",
    "    if P_file_names[i].__contains__(\".jpg\"):\n",
    "        temp = P_file_names[i]\n",
    "        img = cv2.imread(s+P+file_name+temp)\n",
    "        resize_img = cv2.resize(img, None, fx = 0.25, fy = 0.25, interpolation= cv2.INTER_NEAREST)\n",
    "    #     cv2.imshow('INTER_NEAREST', resize_img)\n",
    "    #     cv2.waitKey(0)\n",
    "    #     cv2.destroyAllWindows()\n",
    "        cv2.imwrite(s+PM+file_name+temp, resize_img)\n"
   ]
  },
  {
   "cell_type": "code",
   "execution_count": null,
   "id": "3f6bcc29",
   "metadata": {},
   "outputs": [],
   "source": []
  }
 ],
 "metadata": {
  "kernelspec": {
   "display_name": "Python 3 (ipykernel)",
   "language": "python",
   "name": "python3"
  },
  "language_info": {
   "codemirror_mode": {
    "name": "ipython",
    "version": 3
   },
   "file_extension": ".py",
   "mimetype": "text/x-python",
   "name": "python",
   "nbconvert_exporter": "python",
   "pygments_lexer": "ipython3",
   "version": "3.7.13"
  }
 },
 "nbformat": 4,
 "nbformat_minor": 5
}
