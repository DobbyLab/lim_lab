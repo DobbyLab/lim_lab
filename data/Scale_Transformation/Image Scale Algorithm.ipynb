{
 "cells": [
  {
   "cell_type": "code",
   "execution_count": 2,
   "id": "922d29ec",
   "metadata": {},
   "outputs": [],
   "source": [
    "# https://blog.naver.com/samsjang/220504966397"
   ]
  },
  {
   "cell_type": "code",
   "execution_count": 47,
   "id": "6e5bd926",
   "metadata": {},
   "outputs": [],
   "source": [
    "import cv2\n",
    "import numpy as np\n",
    "import os\n",
    "import shutil"
   ]
  },
  {
   "cell_type": "code",
   "execution_count": 85,
   "id": "89b8c347",
   "metadata": {},
   "outputs": [],
   "source": [
    "# s = 'C:\\\\Users\\\\issac\\\\Documents\\\\GitHub\\\\lim_lab\\\\data_set\\\\'\n",
    "# P = 'original\\\\bear\\\\'\n",
    "# PM = 'scale\\\\bear\\\\'\n",
    "s = 'C:/Users/issac/Documents/GitHub/lim_lab/data_set_v2/'\n",
    "P = 'original_224/'\n",
    "PM = 'scale_112/'\n",
    "file_name = 'bull/'"
   ]
  },
  {
   "cell_type": "code",
   "execution_count": 86,
   "id": "bf8610e4",
   "metadata": {},
   "outputs": [],
   "source": [
    "P_file_names = os.listdir(s+P+file_name)\n",
    "PM_file_names = os.listdir(s+PM+file_name)"
   ]
  },
  {
   "cell_type": "code",
   "execution_count": 87,
   "id": "90d901f8",
   "metadata": {},
   "outputs": [
    {
     "name": "stdout",
     "output_type": "stream",
     "text": [
      "['.DS_Store', '04d9cced0dd42e6c.jpg', '0e2004910f2bf847.jpg', '1bfd365238e1fedd.jpg', '1f286c4bb30960f5.jpg', '220effd28096ff0f.jpg', '249f655af433fc41.jpg', '45b88fb978d91d15.jpg', '4cc5986403f5d736.jpg', '4f217eee30c07d91.jpg', '513a11ee2d82e5d0.jpg', '591f0f9c5c0dade6.jpg', '5ba9cb0d0289bc9c.jpg', '5eb01f9bdae4a5d3.jpg', '6446325073d9c356.jpg', '6581250accb252b5.jpg', '6800bfecec8b98d8.jpg', '6e7fbb17c2aeadbb.jpg', '74b8a8da46a94023.jpg', '7542f12b9f06682b.jpg', '82491249a052c78a.jpg', '8946e4b6f78cbc6b.jpg', '9c53ba2dcc734b28.jpg', '9cd8725a3b937c09.jpg', 'a9dbaa2ef7acda02.jpg', 'b45f0e088ba581f2.jpg']\n"
     ]
    }
   ],
   "source": [
    "print(P_file_names)"
   ]
  },
  {
   "cell_type": "code",
   "execution_count": 88,
   "id": "4fbc205b",
   "metadata": {},
   "outputs": [],
   "source": [
    "for i in range(len(P_file_names)):\n",
    "    if P_file_names[i].__contains__(\".jpg\"):\n",
    "        temp = P_file_names[i]\n",
    "        img = cv2.imread(s+P+file_name+temp)\n",
    "        resize_img = cv2.resize(img, None, fx = 0.5, fy = 0.5, interpolation= cv2.INTER_NEAREST)\n",
    "    #     cv2.imshow('INTER_NEAREST', resize_img)\n",
    "    #     cv2.waitKey(0)\n",
    "    #     cv2.destroyAllWindows()\n",
    "        cv2.imwrite(s+PM+file_name+temp, resize_img)\n"
   ]
  },
  {
   "cell_type": "code",
   "execution_count": null,
   "id": "3f6bcc29",
   "metadata": {},
   "outputs": [],
   "source": []
  }
 ],
 "metadata": {
  "kernelspec": {
   "display_name": "Python 3 (ipykernel)",
   "language": "python",
   "name": "python3"
  },
  "language_info": {
   "codemirror_mode": {
    "name": "ipython",
    "version": 3
   },
   "file_extension": ".py",
   "mimetype": "text/x-python",
   "name": "python",
   "nbconvert_exporter": "python",
   "pygments_lexer": "ipython3",
   "version": "3.7.13"
  }
 },
 "nbformat": 4,
 "nbformat_minor": 5
}
