{
 "cells": [
  {
   "cell_type": "code",
   "execution_count": 14,
   "id": "f386cf3b",
   "metadata": {},
   "outputs": [],
   "source": [
    "import cv2\n",
    "import numpy as np\n",
    "import os\n",
    "import shutil"
   ]
  },
  {
   "cell_type": "code",
   "execution_count": 15,
   "id": "ef4b6430",
   "metadata": {},
   "outputs": [],
   "source": [
    "s = 'C:/Users/issac/Documents/GitHub/lim_lab/data_set_v5/'\n",
    "P = 'original_224/'\n",
    "PM_G = 'gaussian_5_224/'\n",
    "PM_M = 'median_5_224/'"
   ]
  },
  {
   "cell_type": "code",
   "execution_count": 16,
   "id": "82789df1",
   "metadata": {
    "scrolled": true
   },
   "outputs": [],
   "source": [
    "# P_file_names = os.listdir(s+P+file_name)\n",
    "# PM_file_names = os.listdir(s+PM+file_name)\n",
    "file_names = os.listdir(s+P)\n",
    "# print(file_names)"
   ]
  },
  {
   "cell_type": "code",
   "execution_count": 17,
   "id": "c8d04c2f",
   "metadata": {},
   "outputs": [
    {
     "name": "stdout",
     "output_type": "stream",
     "text": [
      "Bed\n",
      "Chair\n",
      "Clock\n",
      "Closet\n",
      "KeyBoard\n",
      "Piano\n",
      "Spoon\n",
      "Vacuum Cleaner\n",
      "Wallet\n",
      "Washing Machine\n"
     ]
    }
   ],
   "source": [
    "for j in file_names:\n",
    "    print(j)\n",
    "    P_file_names = os.listdir(s+P+j+'/')\n",
    "#     PM_file_names = os.listdir(s+PM+j+'/')\n",
    "    for i in range(len(P_file_names)):\n",
    "        if P_file_names[i].__contains__(\".png\"):\n",
    "            temp = P_file_names[i]\n",
    "            img = cv2.imread(s+P+j+'/'+temp)\n",
    "\n",
    "            Gaussian_img = cv2.GaussianBlur(img,(5 ,5),0)\n",
    "            median_img = cv2.medianBlur(img,5)\n",
    "    #         cv2.imshow('INTER_NEAREST', median_img)\n",
    "    #         cv2.waitKey(0)\n",
    "    #         cv2.destroyAllWindows()\n",
    "            cv2.imwrite(s+PM_G+j+'/'+temp, Gaussian_img)\n",
    "            cv2.imwrite(s+PM_M+j+'/'+temp, median_img)"
   ]
  },
  {
   "cell_type": "code",
   "execution_count": null,
   "id": "816864da",
   "metadata": {},
   "outputs": [],
   "source": []
  }
 ],
 "metadata": {
  "kernelspec": {
   "display_name": "Python 3 (ipykernel)",
   "language": "python",
   "name": "python3"
  },
  "language_info": {
   "codemirror_mode": {
    "name": "ipython",
    "version": 3
   },
   "file_extension": ".py",
   "mimetype": "text/x-python",
   "name": "python",
   "nbconvert_exporter": "python",
   "pygments_lexer": "ipython3",
   "version": "3.7.13"
  }
 },
 "nbformat": 4,
 "nbformat_minor": 5
}
