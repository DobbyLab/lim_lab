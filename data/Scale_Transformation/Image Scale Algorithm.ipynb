{
 "cells": [
  {
   "cell_type": "code",
   "execution_count": 2,
   "id": "922d29ec",
   "metadata": {},
   "outputs": [],
   "source": [
    "# https://blog.naver.com/samsjang/220504966397"
   ]
  },
  {
   "cell_type": "code",
   "execution_count": 1,
   "id": "6e5bd926",
   "metadata": {},
   "outputs": [],
   "source": [
    "import cv2\n",
    "import numpy as np\n",
    "import os\n",
    "import shutil"
   ]
  },
  {
   "cell_type": "code",
   "execution_count": 79,
   "id": "89b8c347",
   "metadata": {},
   "outputs": [],
   "source": [
    "# s = 'C:\\\\Users\\\\issac\\\\Documents\\\\GitHub\\\\lim_lab\\\\data_set\\\\'\n",
    "# P = 'original\\\\bear\\\\'\n",
    "# PM = 'scale\\\\bear\\\\'\n",
    "s = 'C:/Users/issac/Documents/GitHub/lim_lab/data_set_v3/'\n",
    "P = 'original_224/'\n",
    "PM = 'scale_56/'\n",
    "file_name = 'Axolotl/'"
   ]
  },
  {
   "cell_type": "code",
   "execution_count": 80,
   "id": "bf8610e4",
   "metadata": {},
   "outputs": [],
   "source": [
    "P_file_names = os.listdir(s+P+file_name)\n",
    "PM_file_names = os.listdir(s+PM+file_name)"
   ]
  },
  {
   "cell_type": "code",
   "execution_count": 81,
   "id": "90d901f8",
   "metadata": {},
   "outputs": [
    {
     "name": "stdout",
     "output_type": "stream",
     "text": [
      "['n01632777_1000.png', 'n01632777_1018.png', 'n01632777_1026.png', 'n01632777_1044.png', 'n01632777_1060.png', 'n01632777_1101.png', 'n01632777_1113.png', 'n01632777_1157.png', 'n01632777_1196.png', 'n01632777_1255.png', 'n01632777_1268.png', 'n01632777_1282.png', 'n01632777_1283.png', 'n01632777_1290.png', 'n01632777_1366.png', 'n01632777_1374.png', 'n01632777_1456.png', 'n01632777_1478.png', 'n01632777_1487.png', 'n01632777_1508.png', 'n01632777_1545.png', 'n01632777_1557.png', 'n01632777_1641.png', 'n01632777_1657.png', 'n01632777_166.png', 'n01632777_1669.png', 'n01632777_169.png', 'n01632777_1746.png', 'n01632777_1798.png', 'n01632777_1813.png', 'n01632777_1816.png', 'n01632777_184.png', 'n01632777_1860.png', 'n01632777_1883.png', 'n01632777_1941.png', 'n01632777_1945.png', 'n01632777_1946.png', 'n01632777_20.png', 'n01632777_2005.png', 'n01632777_2069.png', 'n01632777_2081.png', 'n01632777_2103.png', 'n01632777_2117.png', 'n01632777_2132.png', 'n01632777_227.png', 'n01632777_2366.png', 'n01632777_2378.png', 'n01632777_2380.png', 'n01632777_2383.png', 'n01632777_2391.png', 'n01632777_2404.png', 'n01632777_2416.png', 'n01632777_2431.png', 'n01632777_2451.png', 'n01632777_2456.png', 'n01632777_251.png', 'n01632777_268.png', 'n01632777_291.png', 'n01632777_312.png', 'n01632777_321.png', 'n01632777_324.png', 'n01632777_351.png', 'n01632777_36.png', 'n01632777_367.png', 'n01632777_375.png', 'n01632777_38.png', 'n01632777_460.png', 'n01632777_478.png', 'n01632777_517.png', 'n01632777_531.png', 'n01632777_558.png', 'n01632777_587.png', 'n01632777_607.png', 'n01632777_618.png', 'n01632777_623.png', 'n01632777_683.png', 'n01632777_720.png', 'n01632777_733.png', 'n01632777_735.png', 'n01632777_753.png', 'n01632777_765.png', 'n01632777_79.png', 'n01632777_797.png', 'n01632777_817.png', 'n01632777_836.png', 'n01632777_845.png', 'n01632777_846.png', 'n01632777_850.png', 'n01632777_853.png', 'n01632777_858.png', 'n01632777_859.png', 'n01632777_862.png', 'n01632777_88.png', 'n01632777_899.png', 'n01632777_903.png', 'n01632777_907.png', 'n01632777_921.png', 'n01632777_931.png', 'n01632777_937.png', 'n01632777_987.png']\n"
     ]
    }
   ],
   "source": [
    "print(P_file_names)"
   ]
  },
  {
   "cell_type": "code",
   "execution_count": 82,
   "id": "4fbc205b",
   "metadata": {},
   "outputs": [],
   "source": [
    "for i in range(len(P_file_names)):\n",
    "    if P_file_names[i].__contains__(\".png\"):\n",
    "        temp = P_file_names[i]\n",
    "        img = cv2.imread(s+P+file_name+temp)\n",
    "        resize_img = cv2.resize(img, None, fx = 0.25, fy = 0.25, interpolation= cv2.INTER_NEAREST)\n",
    "    #     cv2.imshow('INTER_NEAREST', resize_img)\n",
    "    #     cv2.waitKey(0)\n",
    "    #     cv2.destroyAllWindows()\n",
    "        cv2.imwrite(s+PM+file_name+temp, resize_img)\n"
   ]
  },
  {
   "cell_type": "code",
   "execution_count": null,
   "id": "3f6bcc29",
   "metadata": {},
   "outputs": [],
   "source": []
  }
 ],
 "metadata": {
  "kernelspec": {
   "display_name": "Python 3 (ipykernel)",
   "language": "python",
   "name": "python3"
  },
  "language_info": {
   "codemirror_mode": {
    "name": "ipython",
    "version": 3
   },
   "file_extension": ".py",
   "mimetype": "text/x-python",
   "name": "python",
   "nbconvert_exporter": "python",
   "pygments_lexer": "ipython3",
   "version": "3.7.13"
  }
 },
 "nbformat": 4,
 "nbformat_minor": 5
}
