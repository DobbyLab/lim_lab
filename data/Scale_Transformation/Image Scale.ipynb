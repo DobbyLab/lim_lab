{
 "cells": [
  {
   "cell_type": "code",
   "execution_count": 1,
   "id": "ccc33039",
   "metadata": {},
   "outputs": [],
   "source": [
    "import cv2\n",
    "import numpy as np"
   ]
  },
  {
   "cell_type": "code",
   "execution_count": 10,
   "id": "f400d920",
   "metadata": {},
   "outputs": [],
   "source": [
    "# img = cv2.imread(\"C:\\\\Users\\\\issac\\\\Documents\\\\GitHub\\\\lim_lab\\\\data_set\\\\bear\\\\1cca48c57103a42c.jpg\")\n",
    "# 실험 이미지 \n",
    "img = cv2.imread(\"C:\\\\Users\\\\issac\\\\Desktop\\\\20170724511046.jpg\")"
   ]
  },
  {
   "cell_type": "code",
   "execution_count": 11,
   "id": "dfcb0e05",
   "metadata": {},
   "outputs": [],
   "source": [
    "def transform():\n",
    "    cv2.imshow('original', img)\n",
    "    cv2.waitKey(0)\n",
    "    cv2.destroyAllWindows()\n"
   ]
  },
  {
   "cell_type": "code",
   "execution_count": 12,
   "id": "0d0fc23c",
   "metadata": {},
   "outputs": [],
   "source": [
    "def interplolation_INTER_AREA():\n",
    "    resize_img = cv2.resize(img, None, fx = 0.5, fy = 0.5, interpolation= cv2.INTER_AREA)\n",
    "    cv2.imshow('INTER_AREA', resize_img)\n",
    "    cv2.waitKey(0)\n",
    "    cv2.destroyAllWindows()"
   ]
  },
  {
   "cell_type": "code",
   "execution_count": 13,
   "id": "650a6ffd",
   "metadata": {},
   "outputs": [],
   "source": [
    "def interplolation_NEAREST():\n",
    "    resize_img = cv2.resize(img, None, fx = 0.5, fy = 0.5, interpolation= cv2.INTER_NEAREST)\n",
    "    cv2.imshow('INTER_NEAREST', resize_img)\n",
    "    cv2.waitKey(0)\n",
    "    cv2.destroyAllWindows()"
   ]
  },
  {
   "cell_type": "code",
   "execution_count": 14,
   "id": "32603fca",
   "metadata": {},
   "outputs": [],
   "source": [
    "def interplolation_LINEAR():\n",
    "    resize_img = cv2.resize(img, None, fx = 0.5, fy = 0.5, interpolation= cv2.INTER_LINEAR)\n",
    "    cv2.imshow('INTER_LINEAR', resize_img)\n",
    "    cv2.waitKey(0)\n",
    "    cv2.destroyAllWindows()"
   ]
  },
  {
   "cell_type": "code",
   "execution_count": 15,
   "id": "1d59d207",
   "metadata": {},
   "outputs": [],
   "source": [
    "def interplolation_CUBIC():\n",
    "    resize_img = cv2.resize(img, None, fx = 0.5, fy = 0.5, interpolation= cv2.INTER_CUBIC)\n",
    "    cv2.imshow('INTER_CUBIC', resize_img)\n",
    "    cv2.waitKey(0)\n",
    "    cv2.destroyAllWindows()"
   ]
  },
  {
   "cell_type": "code",
   "execution_count": 16,
   "id": "9910b9fd",
   "metadata": {},
   "outputs": [],
   "source": [
    "def interplolation_LANCZOS4():\n",
    "    resize_img = cv2.resize(img, None, fx = 0.5, fy = 0.5, interpolation= cv2.INTER_LANCZOS4)\n",
    "    cv2.imshow('INTER_LANCZOS4', resize_img)\n",
    "    cv2.waitKey(0)\n",
    "    cv2.destroyAllWindows()"
   ]
  },
  {
   "cell_type": "code",
   "execution_count": 17,
   "id": "f59ea2e4",
   "metadata": {},
   "outputs": [],
   "source": [
    "transform()\n",
    "interplolation_INTER_AREA()\n",
    "interplolation_NEAREST()\n",
    "interplolation_LINEAR()\n",
    "interplolation_CUBIC()\n",
    "interplolation_LANCZOS4()"
   ]
  },
  {
   "cell_type": "code",
   "execution_count": null,
   "id": "e58045a6",
   "metadata": {},
   "outputs": [],
   "source": []
  }
 ],
 "metadata": {
  "kernelspec": {
   "display_name": "Python 3 (ipykernel)",
   "language": "python",
   "name": "python3"
  },
  "language_info": {
   "codemirror_mode": {
    "name": "ipython",
    "version": 3
   },
   "file_extension": ".py",
   "mimetype": "text/x-python",
   "name": "python",
   "nbconvert_exporter": "python",
   "pygments_lexer": "ipython3",
   "version": "3.7.13"
  }
 },
 "nbformat": 4,
 "nbformat_minor": 5
}
