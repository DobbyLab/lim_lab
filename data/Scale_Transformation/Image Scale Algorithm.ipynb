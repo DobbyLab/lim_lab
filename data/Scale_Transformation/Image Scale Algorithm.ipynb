{
 "cells": [
  {
   "cell_type": "code",
   "execution_count": 2,
   "id": "922d29ec",
   "metadata": {},
   "outputs": [],
   "source": [
    "# https://blog.naver.com/samsjang/220504966397"
   ]
  },
  {
   "cell_type": "code",
   "execution_count": 10,
   "id": "6e5bd926",
   "metadata": {},
   "outputs": [],
   "source": [
    "import cv2\n",
    "import numpy as np\n",
    "import os\n",
    "import shutil"
   ]
  },
  {
   "cell_type": "code",
   "execution_count": 11,
   "id": "89b8c347",
   "metadata": {},
   "outputs": [],
   "source": [
    "# s = 'C:\\\\Users\\\\issac\\\\Documents\\\\GitHub\\\\lim_lab\\\\data_set\\\\'\n",
    "# P = 'original\\\\bear\\\\'\n",
    "# PM = 'scale\\\\bear\\\\'\n",
    "s = 'C:/Users/issac/Documents/GitHub/lim_lab/data_set_v6/'\n",
    "P = 'gaussian_7_224/'\n",
    "PM = 'gaussian_7_112/'"
   ]
  },
  {
   "cell_type": "code",
   "execution_count": 12,
   "id": "bf8610e4",
   "metadata": {},
   "outputs": [],
   "source": [
    "file_names = os.listdir(s+P)\n",
    "PM_file_names = os.listdir(s+PM)"
   ]
  },
  {
   "cell_type": "code",
   "execution_count": 13,
   "id": "90d901f8",
   "metadata": {},
   "outputs": [
    {
     "name": "stdout",
     "output_type": "stream",
     "text": [
      "['bed', 'chair', 'clock', 'Closet', 'keyboard', 'piano', 'Spoon', 'vacuum', 'wallet', 'washer']\n"
     ]
    }
   ],
   "source": [
    "print(file_names)"
   ]
  },
  {
   "cell_type": "code",
   "execution_count": 18,
   "id": "4fbc205b",
   "metadata": {},
   "outputs": [
    {
     "name": "stdout",
     "output_type": "stream",
     "text": [
      "bed\n",
      "chair\n",
      "clock\n",
      "Closet\n",
      "keyboard\n",
      "piano\n",
      "Spoon\n",
      "vacuum\n",
      "wallet\n",
      "washer\n"
     ]
    }
   ],
   "source": [
    "for j in file_names:\n",
    "    print(j)\n",
    "    P_file_names = os.listdir(s+P+j+'/')\n",
    "#     PM_file_names = os.listdir(s+PM+j+'/')\n",
    "    for i in range(len(P_file_names)):\n",
    "        if P_file_names[i].__contains__(\".png\"):\n",
    "            temp = P_file_names[i]\n",
    "            img = cv2.imread(s+P+j+'/'+temp)\n",
    "            resize_img = cv2.resize(img, None, fx = 0.5, fy = 0.5, interpolation= cv2.INTER_NEAREST)\n",
    "        #     cv2.imshow('INTER_NEAREST', resize_img)\n",
    "        #     cv2.waitKey(0)\n",
    "        #     cv2.destroyAllWindows()\n",
    "            cv2.imwrite(s+PM+j+'/'+temp, resize_img)"
   ]
  },
  {
   "cell_type": "code",
   "execution_count": null,
   "id": "0578286a",
   "metadata": {},
   "outputs": [],
   "source": []
  }
 ],
 "metadata": {
  "kernelspec": {
   "display_name": "Python 3 (ipykernel)",
   "language": "python",
   "name": "python3"
  },
  "language_info": {
   "codemirror_mode": {
    "name": "ipython",
    "version": 3
   },
   "file_extension": ".py",
   "mimetype": "text/x-python",
   "name": "python",
   "nbconvert_exporter": "python",
   "pygments_lexer": "ipython3",
   "version": "3.7.13"
  }
 },
 "nbformat": 4,
 "nbformat_minor": 5
}
