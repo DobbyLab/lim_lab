{
 "cells": [
  {
   "cell_type": "code",
   "execution_count": 2,
   "id": "922d29ec",
   "metadata": {},
   "outputs": [],
   "source": [
    "# https://blog.naver.com/samsjang/220504966397"
   ]
  },
  {
   "cell_type": "code",
   "execution_count": 47,
   "id": "6e5bd926",
   "metadata": {},
   "outputs": [],
   "source": [
    "import cv2\n",
    "import numpy as np\n",
    "import os\n",
    "import shutil"
   ]
  },
  {
   "cell_type": "code",
   "execution_count": 76,
   "id": "89b8c347",
   "metadata": {},
   "outputs": [],
   "source": [
    "# s = 'C:\\\\Users\\\\issac\\\\Documents\\\\GitHub\\\\lim_lab\\\\data_set\\\\'\n",
    "# P = 'original\\\\bear\\\\'\n",
    "# PM = 'scale\\\\bear\\\\'\n",
    "s = 'C:/Users/issac/Documents/GitHub/lim_lab/data_set_v2/'\n",
    "P = 'original_224/'\n",
    "PM = 'scale_112/'\n",
    "file_name = 'caterpiller/'"
   ]
  },
  {
   "cell_type": "code",
   "execution_count": 73,
   "id": "bf8610e4",
   "metadata": {},
   "outputs": [],
   "source": [
    "P_file_names = os.listdir(s+P+file_name)\n",
    "PM_file_names = os.listdir(s+PM+file_name)"
   ]
  },
  {
   "cell_type": "code",
   "execution_count": 74,
   "id": "90d901f8",
   "metadata": {},
   "outputs": [
    {
     "name": "stdout",
     "output_type": "stream",
     "text": [
      "['.DS_Store', '04d9cced0dd42e6c.jpg', '0e2004910f2bf847.jpg', '14c9fb317ba6b92c.jpg', '15ad1a8c516ebe5b.jpg', '1bfd365238e1fedd.jpg', '1f286c4bb30960f5.jpg', '30ebbfac77011c7f.jpg', '3ccbdb60e4baab56.jpg', '3d92cd804b358a74.jpg', '3ebecb5d7dd0dc1d.jpg', '3fcd6ed1c3cf2d9b.jpg', '45b88fb978d91d15.jpg', '47f2df417e10dd7f.jpg', '4a426770f515d6a2.jpg', '4e30f75839fae913.jpg', '4f217eee30c07d91.jpg', '4f25c5dd6bd91d1b.jpg', '5ba9cb0d0289bc9c.jpg', '6e7fbb17c2aeadbb.jpg', '7efd9c3dba023ee9.jpg', '8bfa7021d75746ce.jpg', '9ac37290be51eac0.jpg', '9c53ba2dcc734b28.jpg', '9cd8725a3b937c09.jpg', '9d96f3293e1b7432.jpg']\n"
     ]
    }
   ],
   "source": [
    "print(P_file_names)"
   ]
  },
  {
   "cell_type": "code",
   "execution_count": 75,
   "id": "4fbc205b",
   "metadata": {},
   "outputs": [],
   "source": [
    "for i in range(len(P_file_names)):\n",
    "    if P_file_names[i].__contains__(\".jpg\"):\n",
    "        temp = P_file_names[i]\n",
    "        img = cv2.imread(s+P+file_name+temp)\n",
    "        resize_img = cv2.resize(img, None, fx = 0.5, fy = 0.5, interpolation= cv2.INTER_NEAREST)\n",
    "    #     cv2.imshow('INTER_NEAREST', resize_img)\n",
    "    #     cv2.waitKey(0)\n",
    "    #     cv2.destroyAllWindows()\n",
    "        cv2.imwrite(s+PM+file_name+temp, resize_img)\n"
   ]
  },
  {
   "cell_type": "code",
   "execution_count": null,
   "id": "3f6bcc29",
   "metadata": {},
   "outputs": [],
   "source": []
  }
 ],
 "metadata": {
  "kernelspec": {
   "display_name": "Python 3 (ipykernel)",
   "language": "python",
   "name": "python3"
  },
  "language_info": {
   "codemirror_mode": {
    "name": "ipython",
    "version": 3
   },
   "file_extension": ".py",
   "mimetype": "text/x-python",
   "name": "python",
   "nbconvert_exporter": "python",
   "pygments_lexer": "ipython3",
   "version": "3.7.13"
  }
 },
 "nbformat": 4,
 "nbformat_minor": 5
}
