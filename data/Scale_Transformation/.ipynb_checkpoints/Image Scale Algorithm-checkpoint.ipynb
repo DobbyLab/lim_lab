{
 "cells": [
  {
   "cell_type": "code",
   "execution_count": 2,
   "id": "922d29ec",
   "metadata": {},
   "outputs": [],
   "source": [
    "# https://blog.naver.com/samsjang/220504966397"
   ]
  },
  {
   "cell_type": "code",
   "execution_count": 1,
   "id": "6e5bd926",
   "metadata": {},
   "outputs": [],
   "source": [
    "import cv2\n",
    "import numpy as np\n",
    "import os\n",
    "import shutil"
   ]
  },
  {
   "cell_type": "code",
   "execution_count": 39,
   "id": "89b8c347",
   "metadata": {},
   "outputs": [],
   "source": [
    "# s = 'C:\\\\Users\\\\issac\\\\Documents\\\\GitHub\\\\lim_lab\\\\data_set\\\\'\n",
    "# P = 'original\\\\bear\\\\'\n",
    "# PM = 'scale\\\\bear\\\\'\n",
    "s = 'C:/Users/issac/Documents/GitHub/lim_lab/data_set_v3/'\n",
    "P = 'original_224/'\n",
    "PM = 'scale_112/'\n",
    "file_name = 'Vulture/'"
   ]
  },
  {
   "cell_type": "code",
   "execution_count": 40,
   "id": "bf8610e4",
   "metadata": {},
   "outputs": [],
   "source": [
    "P_file_names = os.listdir(s+P+file_name)\n",
    "PM_file_names = os.listdir(s+PM+file_name)"
   ]
  },
  {
   "cell_type": "code",
   "execution_count": 41,
   "id": "90d901f8",
   "metadata": {},
   "outputs": [
    {
     "name": "stdout",
     "output_type": "stream",
     "text": [
      "['n01616318_110.png', 'n01616318_111.png', 'n01616318_115.png', 'n01616318_118.png', 'n01616318_123.png', 'n01616318_129.png', 'n01616318_13.png', 'n01616318_137.png', 'n01616318_138.png', 'n01616318_143.png', 'n01616318_147.png', 'n01616318_152.png', 'n01616318_160.png', 'n01616318_165.png', 'n01616318_168.png', 'n01616318_171.png', 'n01616318_184.png', 'n01616318_187.png', 'n01616318_195.png', 'n01616318_198.png', 'n01616318_203.png', 'n01616318_204.png', 'n01616318_208.png', 'n01616318_224.png', 'n01616318_255.png', 'n01616318_259.png', 'n01616318_264.png', 'n01616318_276.png', 'n01616318_280.png', 'n01616318_294.png', 'n01616318_297.png', 'n01616318_299.png', 'n01616318_306.png', 'n01616318_312.png', 'n01616318_315.png', 'n01616318_316.png', 'n01616318_328.png', 'n01616318_334.png', 'n01616318_336.png', 'n01616318_337.png', 'n01616318_358.png', 'n01616318_370.png', 'n01616318_378.png', 'n01616318_381.png', 'n01616318_388.png', 'n01616318_389.png', 'n01616318_395.png', 'n01616318_400.png', 'n01616318_404.png', 'n01616318_412.png', 'n01616318_415.png', 'n01616318_420.png', 'n01616318_421.png', 'n01616318_431.png', 'n01616318_436.png', 'n01616318_447.png', 'n01616318_452.png', 'n01616318_465.png', 'n01616318_478.png', 'n01616318_485.png', 'n01616318_487.png', 'n01616318_491.png', 'n01616318_492.png', 'n01616318_502.png', 'n01616318_507.png', 'n01616318_514.png', 'n01616318_515.png', 'n01616318_519.png', 'n01616318_524.png', 'n01616318_528.png', 'n01616318_536.png', 'n01616318_538.png', 'n01616318_546.png', 'n01616318_548.png', 'n01616318_551.png', 'n01616318_554.png', 'n01616318_558.png', 'n01616318_559.png', 'n01616318_56.png', 'n01616318_564.png', 'n01616318_568.png', 'n01616318_570.png', 'n01616318_584.png', 'n01616318_599.png', 'n01616318_6.png', 'n01616318_603.png', 'n01616318_61.png', 'n01616318_612.png', 'n01616318_626.png', 'n01616318_645.png', 'n01616318_662.png', 'n01616318_669.png', 'n01616318_670.png', 'n01616318_683.png', 'n01616318_690.png', 'n01616318_75.png', 'n01616318_80.png', 'n01616318_83.png', 'n01616318_93.png', 'n01616318_94.png']\n"
     ]
    }
   ],
   "source": [
    "print(P_file_names)"
   ]
  },
  {
   "cell_type": "code",
   "execution_count": 42,
   "id": "4fbc205b",
   "metadata": {},
   "outputs": [],
   "source": [
    "for i in range(len(P_file_names)):\n",
    "    if P_file_names[i].__contains__(\".png\"):\n",
    "        temp = P_file_names[i]\n",
    "        img = cv2.imread(s+P+file_name+temp)\n",
    "        resize_img = cv2.resize(img, None, fx = 0.25, fy = 0.25, interpolation= cv2.INTER_NEAREST)\n",
    "    #     cv2.imshow('INTER_NEAREST', resize_img)\n",
    "    #     cv2.waitKey(0)\n",
    "    #     cv2.destroyAllWindows()\n",
    "        cv2.imwrite(s+PM+file_name+temp, resize_img)\n"
   ]
  },
  {
   "cell_type": "code",
   "execution_count": null,
   "id": "3f6bcc29",
   "metadata": {},
   "outputs": [],
   "source": []
  }
 ],
 "metadata": {
  "kernelspec": {
   "display_name": "Python 3 (ipykernel)",
   "language": "python",
   "name": "python3"
  },
  "language_info": {
   "codemirror_mode": {
    "name": "ipython",
    "version": 3
   },
   "file_extension": ".py",
   "mimetype": "text/x-python",
   "name": "python",
   "nbconvert_exporter": "python",
   "pygments_lexer": "ipython3",
   "version": "3.7.13"
  }
 },
 "nbformat": 4,
 "nbformat_minor": 5
}
