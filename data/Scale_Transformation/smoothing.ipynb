{
 "cells": [
  {
   "cell_type": "code",
   "execution_count": 1,
   "id": "ef76785e",
   "metadata": {},
   "outputs": [],
   "source": [
    "import cv2\n",
    "import numpy as np\n",
    "import os\n",
    "import shutil"
   ]
  },
  {
   "cell_type": "code",
   "execution_count": 14,
   "id": "97dae4a0",
   "metadata": {},
   "outputs": [],
   "source": [
    "s = 'C:/Users/CS3-11/Documents/GitHub/lim_lab/data_set_v4/'\n",
    "P = 'original_224/'\n",
    "PM = 'gaussian_7_224/'"
   ]
  },
  {
   "cell_type": "code",
   "execution_count": 15,
   "id": "7e5ae60c",
   "metadata": {},
   "outputs": [
    {
     "name": "stdout",
     "output_type": "stream",
     "text": [
      "['Axolotl', 'Bullfrog', 'Eagle', 'Owl', 'Red eft', 'Salamandra salamandra', 'Spotted salamander', 'Tree frog', 'Triturus vulgaris', 'Vulture']\n"
     ]
    }
   ],
   "source": [
    "# P_file_names = os.listdir(s+P+file_name)\n",
    "# PM_file_names = os.listdir(s+PM+file_name)\n",
    "file_names = os.listdir(s+PM)\n",
    "print(file_names)"
   ]
  },
  {
   "cell_type": "code",
   "execution_count": 16,
   "id": "a424da10",
   "metadata": {},
   "outputs": [
    {
     "name": "stdout",
     "output_type": "stream",
     "text": [
      "Axolotl\n",
      "Bullfrog\n",
      "Eagle\n",
      "Owl\n",
      "Red eft\n",
      "Salamandra salamandra\n",
      "Spotted salamander\n",
      "Tree frog\n",
      "Triturus vulgaris\n",
      "Vulture\n"
     ]
    }
   ],
   "source": [
    "for j in file_names:\n",
    "    print(j)\n",
    "    P_file_names = os.listdir(s+P+j+'/')\n",
    "    PM_file_names = os.listdir(s+PM+j+'/')\n",
    "    for i in range(len(P_file_names)):\n",
    "        if P_file_names[i].__contains__(\".png\"):\n",
    "            temp = P_file_names[i]\n",
    "            img = cv2.imread(s+P+j+'/'+temp)\n",
    "\n",
    "            Gaussian_img = cv2.GaussianBlur(img,(7 ,7),0)\n",
    "    #         cv2.imshow('INTER_NEAREST', median_img)\n",
    "    #         cv2.waitKey(0)\n",
    "    #         cv2.destroyAllWindows()\n",
    "            cv2.imwrite(s+PM+j+'/'+temp, Gaussian_img)"
   ]
  },
  {
   "cell_type": "code",
   "execution_count": null,
   "id": "b3c2acb6",
   "metadata": {},
   "outputs": [],
   "source": []
  }
 ],
 "metadata": {
  "kernelspec": {
   "display_name": "Python 3 (ipykernel)",
   "language": "python",
   "name": "python3"
  },
  "language_info": {
   "codemirror_mode": {
    "name": "ipython",
    "version": 3
   },
   "file_extension": ".py",
   "mimetype": "text/x-python",
   "name": "python",
   "nbconvert_exporter": "python",
   "pygments_lexer": "ipython3",
   "version": "3.7.13"
  }
 },
 "nbformat": 4,
 "nbformat_minor": 5
}
